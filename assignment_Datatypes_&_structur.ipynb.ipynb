{
  "nbformat": 4,
  "nbformat_minor": 0,
  "metadata": {
    "colab": {
      "provenance": []
    },
    "kernelspec": {
      "name": "python3",
      "display_name": "Python 3"
    },
    "language_info": {
      "name": "python"
    }
  },
  "cells": [
    {
      "cell_type": "markdown",
      "source": [
        "#1. What are data structures, and why are they important?\n",
        "   -A data structure is a specific way of organizing and storing data within a computer system, allowing for efficient access, manipulation, and retrieval of information, making it a crucial component of computer science as it enables programmers to design effective algorithms for various tasks by choosing the right structure for the problem at hand; essentially, it's like a well-organized system for storing and managing data within a program.\n"
      ],
      "metadata": {
        "id": "e3ZXHkpOPd4z"
      }
    },
    {
      "cell_type": "markdown",
      "source": [
        "#2.  Explain the difference between mutable and immutable data types with examples?\n",
        "**bold text**\n"
      ],
      "metadata": {
        "id": "RtsktUEtQGTy"
      }
    },
    {
      "cell_type": "markdown",
      "source": [
        "-Mutable data types can be changed after creation, while immutable data types cannot.\n",
        "  \n",
        "  **Mutable data types**\n",
        "- Can be changed after creation\n",
        "- Can add, remove, or update elements or properties\n",
        "- Ideal for dynamic data\n",
        "   \n",
        "   Examples include lists, dictionaries, and sets\n",
        "\n",
        "**Immutable data types**\n",
        "- Cannot be changed after creation\n",
        "- Values or properties cannot be modified directly\n",
        "- Ensure data integrity and thread safety\n",
        "   \n",
        "   Examples include strings, tuples, numbers, booleans, null, and undefined\n"
      ],
      "metadata": {
        "id": "WBLbM4EbQnxL"
      }
    },
    {
      "cell_type": "markdown",
      "source": [
        "#3. What are the main differences between lists and tuples in Python?"
      ],
      "metadata": {
        "id": "KxO2WjCuRg3s"
      }
    },
    {
      "cell_type": "markdown",
      "source": [],
      "metadata": {
        "id": "L8WiCIkBTC2O"
      }
    },
    {
      "cell_type": "markdown",
      "source": [
        "-**List**\n",
        "\n",
        "-Lists are mutable\n",
        "-The implication of iterations is Time-consuming\n",
        "-The list is better for performing operations, such as insertion and deletion.\n",
        "-Lists consume more memory\n",
        "-Lists have several built-in methods\n",
        "-Unexpected changes and errors are more likely to occur\n",
        "\n",
        "\n",
        "- **TUPLE**\n",
        "\n",
        "-Tuples are immutable\n",
        "-The implication of iterations is comparatively Faster\n",
        "-A Tuple data type is appropriate for accessing the elements\n",
        "-Tuple consumes less memory as compared to the list\n",
        "-Tuple does not have many built-in methods\n",
        "-Because tuples don’t change they are far less error-prone.\n",
        "\n",
        "\n",
        "\n",
        "\n"
      ],
      "metadata": {
        "id": "QXMq3C9ITILu"
      }
    },
    {
      "cell_type": "code",
      "execution_count": null,
      "metadata": {
        "id": "BhD9a48UPLaX"
      },
      "outputs": [],
      "source": []
    },
    {
      "cell_type": "markdown",
      "source": [
        "#4.Describe how dictionaries store data?\n",
        "-Dictionaries are used to store data values in key:value pairs. A dictionary is a collection which is ordered*, changeable and do not allow duplicates. As of Python version 3.7, dictionaries are ordered. In Python 3.6 and earlier, dictionaries are unordered.\n",
        "Python's efficient key/value hash table structure is called a \"dict\". The contents of a dict can be written as a series of key:value pairs within braces { }, e.g. dict = {key1:value1, key2:value2, ... }. The \"empty dict\" is just an empty pair of curly braces {}.\n"
      ],
      "metadata": {
        "id": "mFlNUSLuoPmP"
      }
    },
    {
      "cell_type": "markdown",
      "source": [],
      "metadata": {
        "id": "sH6OQnXvoPb1"
      }
    },
    {
      "cell_type": "code",
      "source": [],
      "metadata": {
        "id": "S39OyIAsJE0O"
      },
      "execution_count": null,
      "outputs": []
    },
    {
      "cell_type": "markdown",
      "source": [
        "#5. Why might you use a set instead of a list in Python?\n",
        "-The Python sets are highly useful to efficiently remove duplicate values from a collection like a list and to perform common math operations like unions and intersections\n",
        "\n"
      ],
      "metadata": {
        "id": "xru1LtJ3oPKg"
      }
    },
    {
      "cell_type": "markdown",
      "source": [],
      "metadata": {
        "id": "xaCqOvbho-Qz"
      }
    },
    {
      "cell_type": "markdown",
      "source": [
        "#6.What is a string in Python, and how is it different from a list?\n",
        "-In Python, a string is a sequence of characters, while a list is a sequence of items that can be of any type. Strings are immutable, meaning they cannot be changed after they are created, while lists are mutable and can be changed.\n",
        "\n"
      ],
      "metadata": {
        "id": "JFIPWITJpz9L"
      }
    },
    {
      "cell_type": "markdown",
      "source": [
        "#7.How do tuples ensure data integrity in Python?\n",
        "# -Tuples are immutable to ensure that their contents remain constant throughout their lifecycle, guaranteeing data integrity and reliability. This immutability allows tuples to be used as keys in dictionaries and elements in sets, as they can be hashed.\n"
      ],
      "metadata": {
        "id": "R0_-daSpq8xZ"
      }
    },
    {
      "cell_type": "markdown",
      "source": [],
      "metadata": {
        "id": "c7PjD78Jq8P-"
      }
    },
    {
      "cell_type": "markdown",
      "source": [],
      "metadata": {
        "id": "uk28vR6KrNTx"
      }
    },
    {
      "cell_type": "markdown",
      "source": [],
      "metadata": {
        "id": "rpI1RGiYqQ6U"
      }
    },
    {
      "cell_type": "markdown",
      "source": [
        "# 8. What is a hash table, and how does it relate to dictionaries in Python?\n",
        "-In Python, a hash table is a data structure that's implemented as a dictionary. A hash table stores key-value pairs, where the key is generated by a hash function.            \n",
        "\n",
        "How does a hash table work?    \n",
        "A hash function generates a unique index value for each key  The index value is used to find the corresponding value in an array  This allows for quick access to data, making hash tables efficient         \n",
        "\n",
        "How does a hash table relate to a dictionary in Python?    The built-in dict() function in Python creates dictionaries  The keys in a dictionary are hashable, meaning they can be used to generate a unique index value  The order of data elements in a dictionary is not fixed         \n",
        "\n",
        "Why are hash tables useful?    \n",
        "They're useful for data cleaning and preparation, such as feature engineering, normalization, and creating histograms  They're efficient because the average time complexity for lookups, insertions, and deletions is \\(O(1)\\)\n"
      ],
      "metadata": {
        "id": "2zY2rVNKrWdl"
      }
    },
    {
      "cell_type": "markdown",
      "source": [],
      "metadata": {
        "id": "b2r6lJ0nsLye"
      }
    },
    {
      "cell_type": "markdown",
      "source": [
        "#9.Can lists contain different data types in Python?\n",
        "-Although it's not really common, a list can also contain a mix of Python types including strings, floats, and booleans.\n",
        "# New Section\n"
      ],
      "metadata": {
        "id": "U5yOnUyWsP__"
      }
    },
    {
      "cell_type": "markdown",
      "source": [],
      "metadata": {
        "id": "oENHHXFMsq0y"
      }
    },
    {
      "cell_type": "markdown",
      "source": [],
      "metadata": {
        "id": "Z8FB9368tFCj"
      }
    },
    {
      "cell_type": "markdown",
      "source": [
        "#10. Explain why strings are immutable in Python?\n"
      ],
      "metadata": {
        "id": "95Z7FqqqtJE1"
      }
    },
    {
      "cell_type": "markdown",
      "source": [
        "-Python strings are \"immutable\" which means they cannot be changed after they are created (Java strings also use this immutable style). Since strings can't be changed, we construct *new* strings as we go to represent computed values."
      ],
      "metadata": {
        "id": "tMJu0xvU53Sf"
      }
    },
    {
      "cell_type": "markdown",
      "source": [
        "#11. What advantages do dictionaries offer over lists for certain tasks?\n",
        "-Dictionaries have several advantages over lists for tasks that require frequent lookups or searches. Dictionaries are faster for finding a specific value, and they can store complex data structures. This can give you more flexibility when storing data. The primary advantage would be retrieving stored values as it is much simpler to search through a dictionary. If the data your trying to store is identifiable so the data can be attributed to name name or item this might be a preferable system.\n",
        "\n",
        "\n"
      ],
      "metadata": {
        "id": "KdG-Y9TO6NNh"
      }
    },
    {
      "cell_type": "markdown",
      "source": [
        "#12. Describe a scenario where using a tuple would be preferable over a list?\n",
        "-The advantages of tuples over the lists are as follows: Tuples are faster than lists. Tuples make the code safe from any accidental modification. If a data is needed in a program which is not supposed to be changed, then it is better to put it in 'tuples' than in 'list'.\n"
      ],
      "metadata": {
        "id": "RLpAjU2n7QX5"
      }
    },
    {
      "cell_type": "markdown",
      "source": [
        "#13. How do sets handle duplicate values in Python?\n",
        "-Items of a set in python are immutable (unchangeable), do not duplicate values, and unordered. Thus, items in a set do not appear in a stipulated manner, i.e., they can appear in a different order every time it is used. Due to this, set items cannot be referred to by key or index.\n",
        "\n"
      ],
      "metadata": {
        "id": "ZNUVdGs-8TWi"
      }
    },
    {
      "cell_type": "markdown",
      "source": [],
      "metadata": {
        "id": "AtAe85g-69PW"
      }
    },
    {
      "cell_type": "markdown",
      "source": [
        "#14.  How does the “in” keyword work differently for lists and dictionaries?\n",
        "-Items of a set in python are immutable (unchangeable), do not duplicate values, and unordered. Thus, items in a set do not appear in a stipulated manner, i.e., they can appear in a different order every time it is used. Due to this, set items cannot be referred to by key or index.\n",
        "\n",
        "\n",
        "\n",
        "\n",
        "```\n",
        "# This is formatted as code\n",
        "```\n",
        "\n"
      ],
      "metadata": {
        "id": "ZW2pMUOQ9PsE"
      }
    },
    {
      "cell_type": "markdown",
      "source": [
        "#15. Can you modify the elements of a tuple? Explain why or why not?\n",
        "-No, you cannot modify the elements of a tuple in Python because tuples are immutable. This means that once a tuple is created, its elements cannot be changed, added, or removed.\n",
        "Explanation\n",
        "Tuples are immutable, while lists are mutable.\n",
        "If you try to change a tuple element, you will receive a TypeError error.\n",
        "To add or remove elements from a tuple, you need to create a new tuple.\n",
        "Tuples are more memory-efficient than lists.\n",
        "\n",
        "What if the element is a changeable data type?\n",
        "If the element is a changeable data type, such as a list, its nested components can be altered.\n",
        "\n"
      ],
      "metadata": {
        "id": "BIdWn_4193Dz"
      }
    },
    {
      "cell_type": "markdown",
      "source": [
        "#16. What is a nested dictionary, and give an example of its use case?\n",
        "-A nested dictionary is a dictionary that is stored within another dictionary. It's a way to store data in multiple layers, which can be useful for managing complex data.\n",
        "Example\n",
        "An organizational chart can be represented as a nested dictionary where the keys are departments and the values are dictionaries of employees in each department.\n",
        "Use cases\n",
        "Employee records: Organize employees by department, with each employee's details in a nested dictionary.\n",
        "Inventory systems: Track product categories, subcategories, and individual product details.\n",
        "JSON data: Nested dictionaries can be used to work with APIs and web services because they naturally map to the structure of JSON data.\n",
        "How to create a nested dictionary in Python\n",
        "Place comma-separated dictionaries within braces.\n",
        "Use a for loop to create a nested dictionary.\n",
        "\n"
      ],
      "metadata": {
        "id": "G6de-kis-ndB"
      }
    },
    {
      "cell_type": "markdown",
      "source": [],
      "metadata": {
        "id": "J2tiVU2G_GMI"
      }
    },
    {
      "cell_type": "markdown",
      "source": [
        "#17. Describe the time complexity of accessing elements in a dictionary?\n",
        "-In Python, the time complexity of accessing an element in a dictionary is \\(O(1)\\) on average. This means that accessing an element in a dictionary is very fast.            \n",
        "Explanation    The time complexity of a dictionary operation depends on the size of the dictionary and the operation being performed.\n",
        "Python dictionaries use a hashing system to automatically locate keys in the dictionary's \"shelf\" of keys.  The time complexity of other dictionary operations in Python is also \\(O(1)\\) on average, including:  Adding or updating an element  Deleting an element  Checking if a key exists  Clearing a dictionary         \n",
        "However, the time complexity can be \\(O(n)\\) in the worst case. This can happen if there are many collisions or if the dictionary needs to be resized.            \n",
        "Time complexity in general     Time complexity is a measure of how much computer time an algorithm takes to run. It's usually expressed as a function of the size of the input. The worst-case time complexity is the maximum amount of time required for inputs of a given size. Error translating content. Please try again later.Time Complexities of Python Dictionary - GeeksforGeeks2 Dec 2024 —  Time Complexities of Python Dictionary * Accessing Elements by Key (O(1)) * Adding or Updating an Element (O(1)) * Dele...GeeksforGeeksPython Dictionary: Understanding Methods with Examples23 Apr 2023 — Time and space complexity of dictionaries The time complexity of dictionary operations in Python depends on the size of...Medium · Binary BeatsTime complexity - WikipediaIn theoretical computer science, the time complexity is the computational complexity that describes the amount of computer time it...WikipediaHow Dictionary Lookup Operations Are O(1) - DEV Community5 Sept 2024 — When you write if key in dictionary , Python automatically looks for the key in the dictionary's \"shelf\" of keys. It kn...DEV Community\n",
        "\n"
      ],
      "metadata": {
        "id": "BfbEhKOq_J56"
      }
    },
    {
      "cell_type": "markdown",
      "source": [
        "#18.what situations are lists preferred over dictionaries?\n",
        "-For quick data look-ups, configurations, or caches, favor dictionaries. For ordered collections and sequence operations, such as maintaining a stack or queue, lists are more suitable.\n",
        "\n",
        "\n"
      ],
      "metadata": {
        "id": "HjGxPrEw__lF"
      }
    },
    {
      "cell_type": "markdown",
      "source": [],
      "metadata": {
        "id": "K-dHPvQrBlH4"
      }
    },
    {
      "cell_type": "markdown",
      "source": [
        "#19 Why are dictionaries considered unordered, and how does that affect data retrieval?\n",
        "-Dictionaries are considered unordered because they do not maintain a specific sequence or order when storing key-value pairs, meaning you cannot access elements based on their position in the collection like you would with a list; instead, you access data directly using the unique key, making data retrieval fast but without any inherent order to the entries themselves.\n",
        "Key points about dictionaries and their unordered nature:\n",
        "\n",
        "Focus on key-based access:\n",
        "\n",
        "The primary function of a dictionary is to quickly retrieve a value based on its associated key, not to maintain the order of insertion.\n",
        "\n",
        "Hashing implementation:\n",
        "\n",
        "Dictionaries often use a hashing mechanism to efficiently locate values based on their keys, which does not rely on a specific order.\n",
        "\n",
        "Impact on data retrieval:\n",
        "\n",
        "Faster lookups: Accessing data in a dictionary using a key is usually very fast, as the key is directly used to locate the corresponding value.\n",
        "No sequential access: You cannot iterate through the elements of a dictionary in the order they were added without using a specific data structure like an ordered dictionary.\n",
        "Important consideration in Python:\n",
        "Python versions and ordering: While older versions of Python dictionaries were strictly unordered, newer versions (from Python 3.7 onwards) preserve insertion order as an implementation detail, but dictionaries are still considered \"unordered\" conceptually as their primary purpose is fast key-based access.\n",
        "Why dictionary is considered as an unordered collection of objects.\n",
        "\n",
        "\n",
        "\n"
      ],
      "metadata": {
        "id": "pO0sh9NO550v"
      }
    },
    {
      "cell_type": "markdown",
      "source": [
        "#20. Explain the difference between a list and a dictionary in terms of data retrieval.\n",
        "\n",
        "-In Python, the difference between data retrieval in a list and a dictionary is that lists use indices to access elements, while dictionaries use keys.\n",
        "Explanation\n",
        "Lists\n",
        "Lists are ordered collections of items.\n",
        "Elements in a list are accessed using indices, which are integers that start at zero.\n",
        "Lists are good for ordered operations like sorting.\n",
        "Lists can contain duplicate items.\n",
        "Dictionaries\n",
        "Dictionaries are unordered collections of key-value pairs.\n",
        "Elements in a dictionary are accessed using keys, which can be of any data type.\n",
        "Dictionaries are good for lookup operations.\n",
        "Dictionaries do not allow duplicate keys.\n",
        "Use cases\n",
        "Lists are good for ordered collections, like a sequence of user actions.\n",
        "Dictionaries are good for quick lookups, like mapping usernames to user data.\n"
      ],
      "metadata": {
        "id": "w3cvhliLCLR1"
      }
    },
    {
      "cell_type": "markdown",
      "source": [
        "#Practical Questions\n",
        "\n",
        "#1. Write a code to create a string with your name and print it?\n",
        "\n"
      ],
      "metadata": {
        "id": "8rK9XorpCjWc"
      }
    },
    {
      "cell_type": "code",
      "source": [
        "# Creating a string with a name\n",
        "name = \"Prerana\"\n",
        "\n",
        "# Printing the string\n",
        "print(name)\n",
        "\n"
      ],
      "metadata": {
        "colab": {
          "base_uri": "https://localhost:8080/"
        },
        "id": "Wp93gt0gDqc8",
        "outputId": "1ade7d48-dc22-443d-e555-83fb20206b93"
      },
      "execution_count": null,
      "outputs": [
        {
          "output_type": "stream",
          "name": "stdout",
          "text": [
            "Prerana\n"
          ]
        }
      ]
    },
    {
      "cell_type": "markdown",
      "source": [
        "#2. Write a code to find the length of the string \"Hello World\"?\n",
        "\n"
      ],
      "metadata": {
        "id": "WQzwHFRRFaOd"
      }
    },
    {
      "cell_type": "code",
      "source": [],
      "metadata": {
        "id": "ZDWS50IpGMJA"
      },
      "execution_count": null,
      "outputs": []
    },
    {
      "cell_type": "code",
      "source": [
        "# Define the string\n",
        "text = \"Hello World\"\n",
        "\n",
        "# Find the length of the string\n",
        "length = len(text)\n",
        "\n",
        "# Print the length\n",
        "print(\"The length of the string is:\", length)\n"
      ],
      "metadata": {
        "colab": {
          "base_uri": "https://localhost:8080/"
        },
        "id": "P8V_ZYFBFjA9",
        "outputId": "520419f9-cc0c-4eed-c1a7-50458c28fde3"
      },
      "execution_count": null,
      "outputs": [
        {
          "output_type": "stream",
          "name": "stdout",
          "text": [
            "The length of the string is: 11\n"
          ]
        }
      ]
    },
    {
      "cell_type": "markdown",
      "source": [],
      "metadata": {
        "id": "68miMcAAFaEP"
      }
    },
    {
      "cell_type": "markdown",
      "source": [
        "# 3. Write a code to slice the first 3 characters from the string \"Python Programming?"
      ],
      "metadata": {
        "id": "4-wVnlMSGyEi"
      }
    },
    {
      "cell_type": "markdown",
      "source": [],
      "metadata": {
        "id": "QiHtdRHbG4za"
      }
    },
    {
      "cell_type": "code",
      "source": [
        "string = \"Python Programming\"\n",
        "sliced_string = string[:3]\n",
        "print(sliced_string)\n"
      ],
      "metadata": {
        "colab": {
          "base_uri": "https://localhost:8080/"
        },
        "id": "Uw0sEyVRHETY",
        "outputId": "0055c8b3-ddb5-4480-ed77-525ebcb4d9e6"
      },
      "execution_count": null,
      "outputs": [
        {
          "output_type": "stream",
          "name": "stdout",
          "text": [
            "Pyt\n"
          ]
        }
      ]
    },
    {
      "cell_type": "markdown",
      "source": [
        "# 4.Write a code to convert the string \"hello\" to uppercase?\n",
        "\n"
      ],
      "metadata": {
        "id": "l7HZYXDNLKee"
      }
    },
    {
      "cell_type": "code",
      "source": [
        "# Original string\n",
        "text = \"hello\"\n",
        "\n",
        "# Convert to uppercase\n",
        "uppercase_text = text.upper()\n",
        "\n",
        "# Output the result\n",
        "print(uppercase_text)"
      ],
      "metadata": {
        "colab": {
          "base_uri": "https://localhost:8080/"
        },
        "id": "jgy9F36qLR4x",
        "outputId": "e7b97a54-0029-4741-9d4a-5c92a369e486"
      },
      "execution_count": null,
      "outputs": [
        {
          "output_type": "stream",
          "name": "stdout",
          "text": [
            "HELLO\n"
          ]
        }
      ]
    },
    {
      "cell_type": "markdown",
      "source": [
        "#5. Write a code to replace the word \"apple\" with \"orange\" in the string \"I like apple\"?\n"
      ],
      "metadata": {
        "id": "7-wY70ZgLiFR"
      }
    },
    {
      "cell_type": "code",
      "source": [
        "text = \"I like apple\"\n",
        "new_text = text.replace(\"apple\", \"orange\")\n",
        "print(new_text)\n"
      ],
      "metadata": {
        "colab": {
          "base_uri": "https://localhost:8080/"
        },
        "id": "ECOQSB0ZLnRX",
        "outputId": "b26f5b5d-f509-4c8a-fea6-9b0cd9f4a7b5"
      },
      "execution_count": null,
      "outputs": [
        {
          "output_type": "stream",
          "name": "stdout",
          "text": [
            "I like orange\n"
          ]
        }
      ]
    },
    {
      "cell_type": "markdown",
      "source": [
        "#6.Write a code to create a list with numbers 1 to 5 and print it?\n"
      ],
      "metadata": {
        "id": "P-9MF-qHL8i9"
      }
    },
    {
      "cell_type": "code",
      "source": [
        "# Create a list with numbers from 1 to 5\n",
        "numbers = [1, 2, 3, 4, 5]\n",
        "\n",
        "# Print the list\n",
        "print(numbers)\n"
      ],
      "metadata": {
        "colab": {
          "base_uri": "https://localhost:8080/"
        },
        "id": "b0cGtB_0MBZL",
        "outputId": "ad012b45-21b0-4d06-948a-4ee3daae44ef"
      },
      "execution_count": null,
      "outputs": [
        {
          "output_type": "stream",
          "name": "stdout",
          "text": [
            "[1, 2, 3, 4, 5]\n"
          ]
        }
      ]
    },
    {
      "cell_type": "markdown",
      "source": [
        "#7. Write a code to append the number 10 to the list [1, 2, 3, 4]?\n"
      ],
      "metadata": {
        "id": "ov9KH84IMUBp"
      }
    },
    {
      "cell_type": "code",
      "source": [
        "my_list = [1, 2, 3, 4]\n",
        "my_list.append(10)\n",
        "print(my_list)"
      ],
      "metadata": {
        "colab": {
          "base_uri": "https://localhost:8080/"
        },
        "id": "8UsodVOeMjyk",
        "outputId": "5d92cb7a-595e-4d05-9ccb-0d4e8507cf26"
      },
      "execution_count": null,
      "outputs": [
        {
          "output_type": "stream",
          "name": "stdout",
          "text": [
            "[1, 2, 3, 4, 10]\n"
          ]
        }
      ]
    },
    {
      "cell_type": "markdown",
      "source": [
        "#8. Write a code to remove the number 3 from the list [1, 2, 3, 4, 5]?\n"
      ],
      "metadata": {
        "id": "Y2RvLfJ2M7uK"
      }
    },
    {
      "cell_type": "code",
      "source": [
        "# Original list\n",
        "my_list = [1, 2, 3, 4, 5]\n",
        "\n",
        "# Remove the number 3 from the list\n",
        "my_list.remove(3)\n",
        "\n",
        "# Print the updated list\n",
        "print(my_list)"
      ],
      "metadata": {
        "colab": {
          "base_uri": "https://localhost:8080/"
        },
        "id": "1JTPzLHzNMsE",
        "outputId": "2d391f59-ce6a-46fe-c61a-804b00ef8c62"
      },
      "execution_count": null,
      "outputs": [
        {
          "output_type": "stream",
          "name": "stdout",
          "text": [
            "[1, 2, 4, 5]\n"
          ]
        }
      ]
    },
    {
      "cell_type": "markdown",
      "source": [],
      "metadata": {
        "id": "45hMfuMZNAdS"
      }
    },
    {
      "cell_type": "markdown",
      "source": [
        "#9. Write a code to access the second element in the list ['a', 'b', 'c', 'd']?\n"
      ],
      "metadata": {
        "id": "hwEVggZfNTrS"
      }
    },
    {
      "cell_type": "markdown",
      "source": [],
      "metadata": {
        "id": "X6G7WI34NPwF"
      }
    },
    {
      "cell_type": "code",
      "source": [
        "my_list = ['a', 'b', 'c', 'd']\n",
        "second_element = my_list[1]\n",
        "print(second_element)"
      ],
      "metadata": {
        "colab": {
          "base_uri": "https://localhost:8080/"
        },
        "id": "fRu_joifNZsH",
        "outputId": "f3d262ef-40c3-4200-df19-8b74f15874f5"
      },
      "execution_count": null,
      "outputs": [
        {
          "output_type": "stream",
          "name": "stdout",
          "text": [
            "b\n"
          ]
        }
      ]
    },
    {
      "cell_type": "markdown",
      "source": [
        "#10.Write a code to reverse the list [10, 20, 30, 40, 50]?"
      ],
      "metadata": {
        "id": "xseRiMhFNsoZ"
      }
    },
    {
      "cell_type": "code",
      "source": [
        "# Original list\n",
        "my_list = [10, 20, 30, 40, 50]\n",
        "\n",
        "# Reversing the list using slicing\n",
        "reversed_list = my_list[::-1]\n",
        "\n",
        "# Output the reversed list\n",
        "print(reversed_list)\n"
      ],
      "metadata": {
        "colab": {
          "base_uri": "https://localhost:8080/"
        },
        "id": "Yp4GsJnYNxib",
        "outputId": "2b339c9b-cffc-4dda-b8e6-c54db7a247f7"
      },
      "execution_count": null,
      "outputs": [
        {
          "output_type": "stream",
          "name": "stdout",
          "text": [
            "[50, 40, 30, 20, 10]\n"
          ]
        }
      ]
    }
  ]
}